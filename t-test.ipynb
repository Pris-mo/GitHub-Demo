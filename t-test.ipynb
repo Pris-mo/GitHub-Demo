import numpy as np
from scipy import stats

def t_test(data1, data2):
    # Calculate mean and standard deviation for each dataset
    mean1 = np.mean(data1)
    std1 = np.std(data1, ddof=1)  # Sample standard deviation
    mean2 = np.mean(data2)
    std2 = np.std(data2, ddof=1)  # Sample standard deviation
	
    # Perform t-test
    t_statistic, p_value = stats.ttest_ind(data1, data2)

    # Print results
    print(f"Dataset 1: Mean = {mean1:.2f}, Std Dev = {std1:.2f}")
    print(f"Dataset 2: Mean = {mean2:.2f}, Std Dev = {std2:.2f}")
    print(f"T-statistic = {t_statistic}, P-value = {p_value}")

    return t_statistic, p_value
