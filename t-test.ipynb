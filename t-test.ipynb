{
 "cells": [
  {
   "cell_type": "code",
   "execution_count": 1,
   "id": "ed941c81-5c89-457a-8eb6-2ea08c838594",
   "metadata": {},
   "outputs": [],
   "source": [
    "import numpy as np\n",
    "from scipy import stats"
   ]
  },
  {
   "cell_type": "code",
   "execution_count": null,
   "id": "46f716d0-e29a-44a0-8dcb-181053cc984a",
   "metadata": {},
   "outputs": [],
   "source": []
  },
  {
   "cell_type": "code",
   "execution_count": null,
   "id": "ea08c202-7b46-4018-ba80-5d7af2f23965",
   "metadata": {},
   "outputs": [],
   "source": [
    "def independent_t_test(group1, group2):\n",
    "    t_statistic, p_value = stats.ttest_ind(group1, group2)\n",
    "    return t_statistic, p_value"
   ]
  },
  {
   "cell_type": "code",
   "execution_count": null,
   "id": "3ada0573-b9ef-4a80-be5b-debfdad38073",
   "metadata": {},
   "outputs": [],
   "source": []
  }
 ],
 "metadata": {
  "kernelspec": {
   "display_name": "Python 3 (ipykernel)",
   "language": "python",
   "name": "python3"
  },
  "language_info": {
   "codemirror_mode": {
    "name": "ipython",
    "version": 3
   },
   "file_extension": ".py",
   "mimetype": "text/x-python",
   "name": "python",
   "nbconvert_exporter": "python",
   "pygments_lexer": "ipython3",
   "version": "3.11.7"
  }
 },
 "nbformat": 4,
 "nbformat_minor": 5
}
