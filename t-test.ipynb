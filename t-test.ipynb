import numpy as np
from scipy import stats

def t_test(data1, data2):
    
    # Perform t-test
    t_statistic, p_value = stats.ttest_ind(data1, data2)

    # Print results
    
    print(f"T-statistic = {t_statistic}, P-value = {p_value}")

    return t_statistic, p_value
